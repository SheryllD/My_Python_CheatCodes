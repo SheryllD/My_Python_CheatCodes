{
 "cells": [
  {
   "cell_type": "code",
   "execution_count": null,
   "metadata": {},
   "outputs": [],
   "source": [
    "import pandas as pd \n",
    "import numpy as np "
   ]
  },
  {
   "cell_type": "code",
   "execution_count": null,
   "metadata": {},
   "outputs": [],
   "source": [
    "# Load Dataset \n",
    "df = pd.read.csv(\"your_csv_data_file.csv\") \n",
    "# Or \n",
    "df = pd.read_excel(\"your_exel_file.xlsx\")"
   ]
  },
  {
   "cell_type": "code",
   "execution_count": null,
   "metadata": {},
   "outputs": [],
   "source": [
    "# Rename specific columns \n",
    "df = df.rename(columns ={\n",
    "    \"OldColumn1\": \"OldColumn1\", \n",
    "    \"OldColumn2\": \"OldColumn2\", \n",
    "    \"OldColumn3\": \"OldColumn3\",  \n",
    "})\n",
    "# Review Changes \n",
    "df.head()"
   ]
  },
  {
   "cell_type": "code",
   "execution_count": null,
   "metadata": {},
   "outputs": [],
   "source": [
    "# Converting Data Types \n",
    "# Ensure correct data interpretation\n",
    "\n",
    "# Convert string to datetime\n",
    "df[\"df_column\"] = pd.to_datetime(df[\"Date_Column\"])\n",
    "\n",
    "# Convert String to Numeric \n",
    "df[\"Amount\"] = pd.to_numeric(df[\"Amount\"])\n",
    "\n",
    "# Review Data Types\n",
    "df.dtypes \n",
    "\n",
    "# Convert string to datatime \n",
    "df[\"Date_column\"] = pd.to_datetime(df[\"Date_Column\"])\n",
    "\n",
    "# Convert string to numeric \n",
    "\n",
    "df[\"Amount\"] = pd.to_numeric(df[\"Amount\"])\n",
    "\n",
    "df.dtypes\n",
    "\n",
    "# Handling Missing Values, Deal with Incomplete Data. \n",
    "\n",
    "df[\"Amount\"] = df[\"Amount\"].fillna(df[\"Amount\"].mean())\n",
    "df = df.dropna() "
   ]
  },
  {
   "cell_type": "code",
   "execution_count": null,
   "metadata": {},
   "outputs": [],
   "source": [
    "# Removing Duplicates \n",
    "\n",
    "df = df.drop_duplicates()\n",
    "\n",
    "# Removing Duplicates Based on Specific Columns \n",
    "df = df.drop_duplicates(subset=[\"Column1\", \"Column2\"])\n",
    "\n",
    "print(f\"Remaining rows: {len(df)}\")"
   ]
  },
  {
   "cell_type": "code",
   "execution_count": null,
   "metadata": {},
   "outputs": [],
   "source": [
    "# Standardizing Text Data \n",
    "# Ensure consistent formatting \n",
    "\n",
    "# Convert text to lowercase \n",
    "df[\"Category\"] = df[\"Category\"].str.lower() \n",
    "\n",
    "# Remove Leading / Trailing Spaces\n",
    "df[\"Category\"] = df[\"Category\"].str.strip() \n",
    "\n",
    "df[\"Category\"].unique() "
   ]
  },
  {
   "cell_type": "code",
   "execution_count": null,
   "metadata": {},
   "outputs": [],
   "source": [
    "# Detecting Outliers\n",
    "# Find extreme values using IQR method\n",
    "\n",
    "Q1 = df[\"Amount\"].quantile(0.25)\n",
    "Q3 = df[\"Amount\"].quantile(0.75)\n",
    "\n",
    "# Set Bounds \n",
    "lower_bound = Q1 - 1.5 * IQR \n",
    "upper_bound = Q3 - 1.5 * IQR "
   ]
  },
  {
   "cell_type": "code",
   "execution_count": null,
   "metadata": {},
   "outputs": [],
   "source": [
    "# Filtering Data, Select specific data based on conditions. \n",
    "\n",
    "# Filter by single condition \n",
    "filtered_data = df[df[\"Amount\"] > 100]\n",
    "\n",
    "# Filter by multiple conditions \n",
    "filtered_data = df[(df[\"Amount\"] > 100) &\n",
    "                   (df[\"Category\"] == \"electronics\" )]"
   ]
  },
  {
   "cell_type": "code",
   "execution_count": null,
   "metadata": {},
   "outputs": [],
   "source": [
    "# Column Management \n",
    "# Organize your columns \n",
    "\n",
    "df = df.drop(columns=[\"Unnecessary1\", \"Unnecessary1\"])\n",
    "df = df[[\"Important1\", \"Important2\", \"Important3\"]]\n",
    "\n",
    "df.columns"
   ]
  }
 ],
 "metadata": {
  "language_info": {
   "name": "python"
  }
 },
 "nbformat": 4,
 "nbformat_minor": 2
}
